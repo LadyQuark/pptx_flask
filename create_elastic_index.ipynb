{
 "cells": [
  {
   "cell_type": "markdown",
   "metadata": {},
   "source": [
    "### Run ElasticSearch locally\n",
    "`docker run --name es01 --net elastic -p 9200:9200 \\\n",
    "-e \"xpack.security.enabled=false\" -e \"discovery.type=single-node\" \\\n",
    "-it -m 1GB docker.elastic.co/elasticsearch/elasticsearch:8.11.1-arm64`"
   ]
  },
  {
   "cell_type": "markdown",
   "metadata": {},
   "source": [
    "### Create new index `docs`"
   ]
  },
  {
   "cell_type": "code",
   "execution_count": 1,
   "metadata": {},
   "outputs": [],
   "source": [
    "from elasticsearch import Elasticsearch\n",
    "INDEX = \"docs\"\n",
    "REQUEST_TIMEOUT = 900\n",
    "MAX_RETRIES = 10\n",
    "MAPPINGS = {\n",
    "    \"properties\" : {\n",
    "        \"user_id\" : {\n",
    "            \"type\" : \"keyword\",\n",
    "            \"index\" : \"true\" \n",
    "        },\n",
    "        \"title\": {\n",
    "            \"type\": \"text\"\n",
    "        },        \n",
    "        \"content\": {\n",
    "            \"type\": \"text\"\n",
    "        },        \n",
    "        \"slide_id\" : {\n",
    "            \"type\" : \"keyword\",\n",
    "            \"index\" : \"false\" \n",
    "        },\n",
    "        \"slide_index\" : {\n",
    "            \"type\" : \"integer\",\n",
    "        },\n",
    "        \"virtualFileName\" : {\n",
    "            \"type\" : \"keyword\",\n",
    "            \"index\" : \"false\" \n",
    "        },\n",
    "        \"originalFileName\" : {\n",
    "            \"type\" : \"keyword\",\n",
    "            \"index\" : \"false\" \n",
    "        },\n",
    "        \"root\" : {\n",
    "            \"type\" : \"keyword\",\n",
    "            \"index\" : \"true\" \n",
    "        },\n",
    "    }\n",
    "}"
   ]
  },
  {
   "cell_type": "code",
   "execution_count": 2,
   "metadata": {},
   "outputs": [
    {
     "data": {
      "text/plain": [
       "{'name': 'ebf56690f72d',\n",
       " 'cluster_name': 'docker-cluster',\n",
       " 'cluster_uuid': 'AWA4q91PQUe0enveiXUpjQ',\n",
       " 'version': {'number': '8.11.1',\n",
       "  'build_flavor': 'default',\n",
       "  'build_type': 'docker',\n",
       "  'build_hash': '6f9ff581fbcde658e6f69d6ce03050f060d1fd0c',\n",
       "  'build_date': '2023-11-11T10:05:59.421038163Z',\n",
       "  'build_snapshot': False,\n",
       "  'lucene_version': '9.8.0',\n",
       "  'minimum_wire_compatibility_version': '7.17.0',\n",
       "  'minimum_index_compatibility_version': '7.0.0'},\n",
       " 'tagline': 'You Know, for Search'}"
      ]
     },
     "execution_count": 2,
     "metadata": {},
     "output_type": "execute_result"
    }
   ],
   "source": [
    "es = Elasticsearch(\n",
    "    \"http://localhost:9200\",\n",
    "    max_retries=MAX_RETRIES, retry_on_timeout=True,\n",
    "    request_timeout=REQUEST_TIMEOUT\n",
    ")\n",
    "es.info().body"
   ]
  },
  {
   "cell_type": "code",
   "execution_count": 3,
   "metadata": {},
   "outputs": [
    {
     "name": "stdout",
     "output_type": "stream",
     "text": [
      "Deleting index\n",
      "Creating index\n"
     ]
    }
   ],
   "source": [
    "def delete_create_index(index=INDEX):\n",
    "    print(\"Deleting index\")\n",
    "    es.options(ignore_status=404).indices.delete(index=index)\n",
    "    print(\"Creating index\")\n",
    "    es.indices.create(index=index, mappings=MAPPINGS)\n",
    "delete_create_index()    "
   ]
  }
 ],
 "metadata": {
  "kernelspec": {
   "display_name": "pptxFlask",
   "language": "python",
   "name": "python3"
  },
  "language_info": {
   "codemirror_mode": {
    "name": "ipython",
    "version": 3
   },
   "file_extension": ".py",
   "mimetype": "text/x-python",
   "name": "python",
   "nbconvert_exporter": "python",
   "pygments_lexer": "ipython3",
   "version": "3.10.0"
  }
 },
 "nbformat": 4,
 "nbformat_minor": 2
}
